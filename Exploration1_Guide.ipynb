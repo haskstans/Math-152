{
  "nbformat": 4,
  "nbformat_minor": 0,
  "metadata": {
    "colab": {
      "provenance": [],
      "include_colab_link": true
    },
    "kernelspec": {
      "name": "python3",
      "display_name": "Python 3"
    },
    "language_info": {
      "name": "python"
    }
  },
  "cells": [
    {
      "cell_type": "markdown",
      "metadata": {
        "id": "view-in-github",
        "colab_type": "text"
      },
      "source": [
        "<a href=\"https://colab.research.google.com/github/haskstans/Math-152/blob/main/Exploration1_Guide.ipynb\" target=\"_parent\"><img src=\"https://colab.research.google.com/assets/colab-badge.svg\" alt=\"Open In Colab\"/></a>"
      ]
    },
    {
      "cell_type": "markdown",
      "source": [
        "# Exploration 1 Guide\n",
        "\n",
        "Choose one (yes, only one) of the following topics for your exploration.  These are small group projects -- there should be no more than 5 people in each group.  Every person in the group will receive the same grade, and please try to contribute to your group!\n",
        "\n",
        "You may use any programming techniques we have discussed in Notebooks 1, 2, and 3.  Please do not use other \"fancy\" techniques, creating custom classes, using dictionary comprehension, importing highly specialized packages, etc.  Keep it simple please!\n",
        "\n",
        "Your notebook should be a report containing both text cells and well-\n",
        "documented code cells. Your text cells should include a heading (title) and\n",
        "short (one paragraph) introduction, and should lead the reader through your\n",
        "explorations. You should write text summaries of what you found, in clear\n",
        "and precise English. Before long code blocks, you should introduce the code,\n",
        "and tell the reader what it does, and why you are doing it.  At the end, you should write a little conclusion, or at least get to a nice stopping point.\n",
        "\n",
        "There are a lot of papers written about these topics. You shouldn’t\n",
        "need to look at these papers (maybe one or two, if you want), but if you\n",
        "do use results you must cite them. For citation, please provide complete\n",
        "bibliographic information in your notebook, and web links to papers online.\n",
        "Limit your references to published papers and preprints, by looking at (1)\n",
        "papers published in scholarly math journals, (2) papers published by scien-\n",
        "tific journals, e.g., Annals of Mathematics or a popular journal like Quanta, and (3) preprints from arxiv.org. If you want to look at Wikipedia, it’s fine, but please use it primarily for the references (typically given at the bottom of the Wikipedia page.\n",
        "\n",
        "You may look things up, but do not just copy and paste code from elsewhere, especially without citation.  If you do not cite your sources, that is a violation of academic integrity.  If you get completely stuck, and look up someone else's code (or use a computer code-generating tool), please describe what happened -- where you got stuck and where the code comes from (URL, print source, etc.)  Just **be honest**!\n",
        "\n",
        "Your submission should be a link to a ipynb notebook stored on a GitHub directory, just like your NB1 assignment."
      ],
      "metadata": {
        "id": "KjqXfRJqJoc-"
      }
    },
    {
      "cell_type": "markdown",
      "source": [
        "# Topic 1:  Gauss's Circle Conjecture\n",
        "\n",
        "Consider a circle of radius $R$ centered at the origin $(0,0)$.  So the area of the circle is $A(R) = \\pi R^2$.  A **lattice point** is a point $(a,b)$ with integer coordinates, i.e., $a$ and $b$ are integers.  Let $L(R)$ be the number of lattice points contained inside the circle of radius $R$.  In other words, $L(R)$ is the number of points $(a,b)$ with integers $a,b$ satisfying $a^2 + b^2 \\leq R^2$.  (Note I've used a less-than-or-equal here).\n",
        "\n",
        "One might suspect, as Gauss did, that $A(R)$ is pretty close to $L(R)$.  Explore this using Python.  In particular, explore the following questions:\n",
        "\n",
        "1.  (Must do:) Write a function to compute $L(R)$.  Try to make it compute $L(R)$ quickly, if you can, even if $R$ is big (like 1000 perhaps, or maybe much bigger).  But be careful... don't ask your computer to try $L(1000000)$ until you try some smaller inputs and see how long it will take.  \n",
        "\n",
        "2.  Analyze the \"error\" $E(R) = A(R) - L(R)$.  How does this grow, relative to the size of $R$?  Does it grow as fast as $R^2$?  As fast as $R$?  As fast as $\\sqrt{R}$?  As fast as $R^{2/3}$?  How can you use Python, and your math skills, to carry out this analysis?  Conduct this analysis with a combination of Python code and text blocks to explain what you're doing.\n",
        "\n",
        "3.  There are many variants on this topic.  For example, spheres in 3-d instead of circles.  Or ellipses instead of circles.  Or different kinds of lattices besides the usual \"square grid\" of integer-coordinates.  Try one variant, and describe your findings.\n",
        "\n",
        "\n"
      ],
      "metadata": {
        "id": "q6q_MdphJvLl"
      }
    },
    {
      "cell_type": "code",
      "execution_count": 10,
      "metadata": {
        "id": "kHpb1El2JnvF",
        "outputId": "9899ce69-24ab-4713-de00-83b7743a1516",
        "colab": {
          "base_uri": "https://localhost:8080/"
        }
      },
      "outputs": [
        {
          "output_type": "execute_result",
          "data": {
            "text/plain": [
              "47.65358979301527"
            ]
          },
          "metadata": {},
          "execution_count": 10
        }
      ],
      "source": [
        "# Part. 1\n",
        "import math\n",
        "def A(R):\n",
        "    return math.pi * R**2\n",
        "\n",
        "def L(R):\n",
        "    lattice_points = []\n",
        "    if R % 1 == 0: # the range of y\n",
        "        y_range = R\n",
        "    else:\n",
        "        y_range = int(R) + 1\n",
        "    for i in range(1, y_range):   \n",
        "        x_range = int(math.sqrt(R**2 - i**2)) + 1  # the range of x\n",
        "        for j in range(0, x_range):\n",
        "            lattice_points.append((j,i))\n",
        "    return 4 * len(lattice_points) + 1\n",
        "\n",
        "def E(R):\n",
        "    return A(R) - L(R)\n",
        "\n"
      ]
    },
    {
      "cell_type": "code",
      "source": [
        "import matplotlib.pyplot as plt\n",
        "x_axis = []\n",
        "LR = []\n",
        "AR = []\n",
        "for i in range(0,100):\n",
        "    x_axis.append(i)\n",
        "    LR.append(L(i))\n",
        "    AR.append(A(i))\n",
        "plt.plot(x_axis,LR,label=\"LR\")\n",
        "plt.plot(x_axis,AR,label=\"AR\")\n",
        "plt.legend(loc='upper center')\n",
        "plt.show()"
      ],
      "metadata": {
        "id": "aAbVmwy9z-VY",
        "outputId": "f46326dc-ef73-42f4-9ce2-c683e785675e",
        "colab": {
          "base_uri": "https://localhost:8080/",
          "height": 265
        }
      },
      "execution_count": 27,
      "outputs": [
        {
          "output_type": "display_data",
          "data": {
            "text/plain": [
              "<Figure size 432x288 with 1 Axes>"
            ],
            "image/png": "[encoded data removed]"
          },
          "metadata": {
            "needs_background": "light"
          }
        }
      ]
    },
    {
      "cell_type": "code",
      "source": [
        "def V(R):\n",
        "    return (4 * math.pi * R**3)/3\n",
        "\n",
        "def L_3D(R):\n",
        "    L = 0\n",
        "    Rsq = R * R\n",
        "    for a in range(-R, R + 1):\n",
        "        for b in range(-R, R + 1):\n",
        "            for c in range(-R, R+1):\n",
        "                if (a ** 2) + (b ** 2) + (c**2) <= Rsq:\n",
        "                    L += 1\n",
        "    return L \n",
        "\n",
        "def E_3D(R):\n",
        "    return V(R) - L_3D(R)\n",
        "\n",
        "print(E(1000))\n",
        "print(E_3D(1000))"
      ],
      "metadata": {
        "id": "2_PeHDql-buO",
        "outputId": "ed85d9f2-5469-45a0-ad06-02c0995aed2e",
        "colab": {
          "base_uri": "https://localhost:8080/"
        }
      },
      "execution_count": null,
      "outputs": [
        {
          "output_type": "stream",
          "name": "stdout",
          "text": [
            "47.65358979301527\n"
          ]
        }
      ]
    },
    {
      "cell_type": "markdown",
      "source": [
        "# Topic 2:  Reciprocity laws in the spirit of Euler\n",
        "\n",
        "Let $p$ be a prime number, with $p \\neq 2$.  In a letter to Mersenne written on Christmas day, Fermat mentioned that $p$ can be expressed as a sum of two squares if and only if $p \\div 4$ leaves a remainder of $1$, i.e., if $p = 4n+1$ for some integer $n$.  For example, $73$ is such a prime number ($73 = 4(18) + 1$) and $73 = 8^2 + 3^2$.  On the other hand, $7$ is not such a prime number.  Note that $7 = 4(1) + 3$, and $7$ cannot be written as $x^2 + y^2$ for integers $x$ and $y$.\n",
        "\n",
        "From a modern perspective, Fermat's \"Christmas Theorem\" is the first instance of a reciprocity law.  Euler found many more.  For example, a prime $p$ can be expressed as $x^2 + 3y^2$ if and only $p \\div 12$ equals 1 or 7 (or if $p=3$).  For example $7 = 2^2 + 3(1^2)$ and $13 = 1^2 + 3(2^2)$.  \n",
        "\n",
        "In this project, see if you can discover more of these \"reciprocity laws\".  A reciprocity law here is a theorem of the form:  A prime number $p$ can be expressed as $x^2 + N y^2$ if and only if $p \\div M$ belongs to a certain finite set.  E.g., one can take $N = 3$ and $M = 12$, and the finite set would be $1,3,7$.  Typically one looks at $M = 4N$, in fact.\n",
        "\n",
        "For this project, you can use a \"primelist\" function to make a list of primes.  There is one in NB 3, and here it is."
      ],
      "metadata": {
        "id": "WXDGyiaOJzkd"
      }
    },
    {
      "cell_type": "code",
      "source": [
        "from math import sqrt\n",
        "\n",
        "def isprime_list(n):\n",
        "    ''' \n",
        "    Return a list of length n+1\n",
        "    with Trues at prime indices and Falses at composite indices.\n",
        "    '''\n",
        "    flags = [True] * (n+1)  # A list [True, True, True,...] to start.\n",
        "    flags[0] = False  # Zero is not prime.  So its flag is set to False.\n",
        "    flags[1] = False  # One is not prime.  So its flag is set to False.\n",
        "    flags[4::2] = [False] * ((n-2)//2)\n",
        "    p = 3\n",
        "    while p <= sqrt(n):  # We only need to sieve by p is p <= sqrt(n).\n",
        "        if flags[p]:  # We sieve the multiples of p if flags[p]=True.\n",
        "            flags[p*p::2*p] = [False] * ((n-p*p)//(2*p)+1) # Sieves out multiples of p, starting at p*p.\n",
        "        p = p + 2 # Try the next value of p.\n",
        "        \n",
        "    return flags\n",
        "\n",
        "def where(L):\n",
        "    '''\n",
        "    Take a list of booleans as input and\n",
        "    outputs the list of indices where True occurs.\n",
        "    '''\n",
        "    return [n for n in range(len(L)) if L[n]]\n",
        "\n",
        "primes = where(isprime_list(1000000)) # The primes up to 1 million, in a list."
      ],
      "metadata": {
        "id": "4qXIXc8aJ2o7"
      },
      "execution_count": null,
      "outputs": []
    },
    {
      "cell_type": "code",
      "source": [
        "primes[:5] # The first 5 prime numbers."
      ],
      "metadata": {
        "colab": {
          "base_uri": "https://localhost:8080/"
        },
        "id": "Ks_NnoBbPXHc",
        "outputId": "5a196684-d94d-47d1-9663-427b21237bd0"
      },
      "execution_count": null,
      "outputs": [
        {
          "output_type": "execute_result",
          "data": {
            "text/plain": [
              "[2, 3, 5, 7, 11]"
            ]
          },
          "metadata": {},
          "execution_count": 2
        }
      ]
    },
    {
      "cell_type": "code",
      "source": [
        "for p in primes[:5]:\n",
        "  print(p%4) # Print the remainders of p/4 for the first 5 primes."
      ],
      "metadata": {
        "colab": {
          "base_uri": "https://localhost:8080/"
        },
        "id": "N5uKoM9IWpTH",
        "outputId": "543ff06e-d338-4886-be65-1cb459518485"
      },
      "execution_count": null,
      "outputs": [
        {
          "output_type": "stream",
          "name": "stdout",
          "text": [
            "2\n",
            "3\n",
            "1\n",
            "3\n",
            "3\n"
          ]
        }
      ]
    },
    {
      "cell_type": "markdown",
      "source": [
        "1.  (Must do) Write a function which takes as input a prime number p and positive integer N, and outputs True or False, depending on whether p can or cannot be expressed in the form $x^2 + N y^2$ for integers $x,y$.\n",
        "\n",
        "2.  Look at primes $p$ of the form $x^2 + N y^2$, and the remainders `p % (4*N)` for various positive integers $N$.  Do all possible remainders occur?  Look for and describe the patterns you find.\n",
        "\n",
        "3.  Try to find new reciprocity laws, focusing on cases where it seems like there is an \"if and only if\" statement -- a prime $p$ can be written as $x^2 + N y^2$ if and only if $p / 4N$ leaves a certain kind of remainder.  \n",
        "\n",
        "4.  Consider variants, like primes of the form $ax^2 + b y^2$ for small positive $a,b$.  Can you find any reciprocity laws for these?  Try using $4ab$ instead of the $4N$ from before.  What about sums of cubes and other variants?  Describe your findings!"
      ],
      "metadata": {
        "id": "nTW-Loy1Pcfs"
      }
    },
    {
      "cell_type": "markdown",
      "source": [
        "# Topic 3:  A Polygon Toolkit\n",
        "\n",
        "In this topic, you will create a toolkit of functions to work with polygons.  To describe a polygon, you can use two lists of numbers (ints, floats, whatever) of the same length.  One list will be the list of x-coordinates of vertices, and the other will be the list of y-coordinates of vertices.  For example, if `xlist = [1,2,3]` and `ylist = [4,5,6]`, then these describe the triangle with vertices at $(1,4)$ and $(2,5)$ and $(3,6)$.\n",
        "\n",
        "1.  (Must do)  Write a function with inputs x1,y1,x2,y2 and u1,v1,u2,v2, which determines whether the line segment joining $(x1,y1)$ to $(x2,y2)$ intersects the line segment joining $(u1,v1)$ to $(u2,v2)$.  This is a bit tricky... try to make sure your function runs correctly and efficiently by demonstrating it for some test cases.  If your code is hard to understand, include an explanation of why it works!\n",
        "\n",
        "2.  A polygon is called \"simple\" if the edges do not intersect, except where they should.  In other words, each edge should intersect the next and previous edges at the endpoints, e.g., the edge from (1,4) to (2,5) intersects the next edge from (2,5) to (3,6)... but only at the vertex (2,5).  Write a function which takes in an xlist and ylist, and determines whether the resulting polygon is simple.  Note that the xlist and ylist are mean to give the x and y coordinates of the vertices, going around the polygon in order.  The last (x,y) pair should be joined to the first (x,y) pair to make the polygon \"close up\".\n",
        "\n",
        "3.  Write a function which computes the *area* of a simple polygon.  There are various approaches, and you might look up \"Green's Theorem\" for areas of polygons to find a quick one!  Please describe the formula you use.\n",
        "\n",
        "4.  A challenge:  Suppose that the vertices of your polygon are lattice points, i.e., they have integer coordinates.  [Pick's Theorem](https://en.wikipedia.org/wiki/Pick%27s_theorem) relates the area of a polygon to the number of interior lattice points and edge lattice points.  You can use the Euclidean algorithm to count edge lattice points, and previous parts to figure out areas.  Use these together to write a function which finds the number of *interior* lattice points inside any simple polygon.\n",
        "\n",
        "5.  A further challenge:  Given a point $(x,y)$, and a simple polygon, can you write a program to quickly determine whether $(x,y)$ is *inside* the polgyon or *outside* the polyon or *on an edge* of the polygon?\n",
        "\n"
      ],
      "metadata": {
        "id": "9cwsjsfdJ5YE"
      }
    },
    {
      "cell_type": "markdown",
      "source": [],
      "metadata": {
        "id": "xcPMTIlfJ3IF"
      }
    },
    {
      "cell_type": "markdown",
      "source": [
        "# Topic 4:  The Collatz Conjecture\n",
        "\n",
        "Begin with an integer $n$.  If it is even, divide it by $2$.  If it is odd, triple it and add one.  Then repeat.  \n",
        "\n",
        "For example, if you begin with the number $3$, you get the sequence:\n",
        "$$3, 10, 5, 16, 8, 4, 2, 1, 4, 2, 1, \\ldots.$$\n",
        "\n",
        "It is a famous open conjecture (the Collatz conjecture, or $3n+1$ problem) that... if you begin with *any* positive integer $n$, then the resulting sequence ends up in the repeating $4,2,1,4,2,1,\\ldots$ cycle.  \n",
        "\n",
        "1.  (Must do) Write a function which takes an integer $n$ as input, and outputs or otherwise prints the \"Collatz\" sequence until it hits the number $1$.\n",
        "\n",
        "2.  (Must do)  Write a function which takes an integer $n$ as input, and counts the number of steps in the Collatz sequence until a *smaller* integer is found.  For example, starting from the number $3$, the sequence $3,10,5,16,8,4,2$ reaches a number smaller than $3$ in 6 steps.  We say that the \"dropping time\" of $3$ is $6$.  On the other hand, the dropping time of any even number is $1$, e.g., $10$ drops immediately to $5$.\n",
        "\n",
        "3.  Verify the Collatz conjecture for numbers up to $100$, in a quick way.\n",
        "\n",
        "4.  Study the dropping time.  Do certain numbers have particular dropping times?  What patterns can you find?\n",
        "\n",
        "5.  Study at least one variant of the Collatz conjecture.  What happens if you start with a *negative* integer $n$, for example?  Make sure your computer doesn't get caught in an infinite loop though!  What about variants... can you find other similar \"rules\" that yield interesting sequences, get caught in cycles, etc.?  Describe what you find.\n"
      ],
      "metadata": {
        "id": "7-XPKARHJ8W8"
      }
    },
    {
      "cell_type": "code",
      "source": [],
      "metadata": {
        "id": "i5t9MCdLJ-QC"
      },
      "execution_count": null,
      "outputs": []
    }
  ]
}